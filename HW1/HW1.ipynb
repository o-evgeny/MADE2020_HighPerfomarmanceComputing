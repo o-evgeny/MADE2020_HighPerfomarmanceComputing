{
 "cells": [
  {
   "cell_type": "code",
   "execution_count": 133,
   "metadata": {},
   "outputs": [],
   "source": [
    "import pandas as pd\n",
    "pd.set_option('display.max_rows', 500)\n",
    "import matplotlib.pyplot as plt\n",
    "import math\n",
    "from sklearn.linear_model import LinearRegression \n",
    "import numpy as np"
   ]
  },
  {
   "cell_type": "code",
   "execution_count": 134,
   "metadata": {},
   "outputs": [
    {
     "name": "stderr",
     "output_type": "stream",
     "text": [
      "/Users/workhard/opt/anaconda3/lib/python3.7/site-packages/IPython/core/interactiveshell.py:3058: DtypeWarning: Columns (30,31,35,36,38,43,44) have mixed types. Specify dtype option on import or set low_memory=False.\n",
      "  interactivity=interactivity, compiler=compiler, result=result)\n"
     ]
    }
   ],
   "source": [
    "hist=pd.read_csv('TOP500_history.csv')"
   ]
  },
  {
   "cell_type": "code",
   "execution_count": 135,
   "metadata": {
    "scrolled": true
   },
   "outputs": [],
   "source": [
    "hist_first=hist[hist['Rank']==1]\n",
    "hist_last=hist[hist['Rank']==500]"
   ]
  },
  {
   "cell_type": "code",
   "execution_count": 136,
   "metadata": {
    "scrolled": true
   },
   "outputs": [
    {
     "name": "stderr",
     "output_type": "stream",
     "text": [
      "/Users/workhard/opt/anaconda3/lib/python3.7/site-packages/ipykernel_launcher.py:19: SettingWithCopyWarning: \n",
      "A value is trying to be set on a copy of a slice from a DataFrame\n",
      "\n",
      "See the caveats in the documentation: http://pandas.pydata.org/pandas-docs/stable/user_guide/indexing.html#returning-a-view-versus-a-copy\n",
      "/Users/workhard/opt/anaconda3/lib/python3.7/site-packages/ipykernel_launcher.py:22: SettingWithCopyWarning: \n",
      "A value is trying to be set on a copy of a slice from a DataFrame\n",
      "\n",
      "See the caveats in the documentation: http://pandas.pydata.org/pandas-docs/stable/user_guide/indexing.html#returning-a-view-versus-a-copy\n"
     ]
    }
   ],
   "source": [
    "train_first=pd.DataFrame()\n",
    "train_last=pd.DataFrame()\n",
    "\n",
    "train_first['year']=hist_first['Year']\n",
    "train_last['year']=hist_last['Year']\n",
    "train_first['month']=hist_first['Month']\n",
    "train_last['month']=hist_last['Month']\n",
    "train_first['RMax']=hist_first['RMax']*(1e-3)\n",
    "train_last['RMax']=hist_last['RMax']*(1e-3)\n",
    "train_first['RMax2']=hist_first['Rmax [TFlop/s]']\n",
    "train_last['RMax2']=hist_last['Rmax [TFlop/s]']\n",
    "train_first=train_first.reset_index()\n",
    "train_last=train_last.reset_index()\n",
    "del train_first['index']\n",
    "del train_last['index']\n",
    "\n",
    "for i in range(len(train_first)):\n",
    "    if math.isnan(train_first.loc[i]['RMax'])==True:\n",
    "        train_first['RMax'][i]=train_first.loc[i]['RMax2']\n",
    "for i in range(len(train_last)):\n",
    "    if math.isnan(train_last.loc[i]['RMax'])==True:\n",
    "        train_last['RMax'][i]=train_last.loc[i]['RMax2']\n",
    "        \n",
    "del train_first['RMax2']\n",
    "del train_last['RMax2']\n",
    "\n",
    "\n",
    "label_first=train_first['RMax']*1e12\n",
    "label_last=train_last['RMax']*1e12\n",
    "label_first=label_first.append(pd.Series([415530*1e12]),ignore_index=True)\n",
    "label_last=label_last.append(pd.Series([1228*1e12]),ignore_index=True)\n",
    "train_first=train_first.append({'year':2020,'month':6},ignore_index=True)\n",
    "train_last=train_last.append({'year':2020,'month':6},ignore_index=True)\n",
    "\n",
    "del train_first['RMax']\n",
    "del train_last['RMax']"
   ]
  },
  {
   "cell_type": "code",
   "execution_count": 137,
   "metadata": {},
   "outputs": [],
   "source": [
    "model_first=LinearRegression()\n",
    "model_last=LinearRegression()\n",
    "model_first=model_first.fit(X=train_first,y=np.log(label_first))\n",
    "model_last=model_last.fit(X=train_last,y=np.log(label_last))\n",
    "\n"
   ]
  },
  {
   "cell_type": "code",
   "execution_count": 138,
   "metadata": {},
   "outputs": [],
   "source": [
    "pred=pd.DataFrame(columns=['year','month'])\n",
    "for i in range(0,5):\n",
    "    pred=pred.append({'year':2020+i,'month':11},ignore_index=True)\n",
    "    pred=pred.append({'year':2020+i+1,'month':6},ignore_index=True)\n",
    "   "
   ]
  },
  {
   "cell_type": "code",
   "execution_count": 139,
   "metadata": {},
   "outputs": [],
   "source": [
    "pred_first=model_first.predict(pred)\n",
    "pred_last=model_last.predict(pred)"
   ]
  },
  {
   "cell_type": "code",
   "execution_count": 140,
   "metadata": {},
   "outputs": [
    {
     "data": {
      "image/png": "[encoded data removed]",
      "text/plain": [
       "<Figure size 1440x720 with 1 Axes>"
      ]
     },
     "metadata": {
      "needs_background": "light"
     },
     "output_type": "display_data"
    }
   ],
   "source": [
    "plt.figure(figsize=(20,10))\n",
    "plt.grid()\n",
    "plt.plot(train_first['year'].values,label_first)\n",
    "plt.scatter(train_first['year'].values,(label_first))\n",
    "plt.plot(pred['year'].values,np.exp(pred_first))\n",
    "plt.scatter(pred['year'].values,np.exp(pred_first))\n",
    "\n",
    "plt.plot(train_last['year'].values,label_last)\n",
    "plt.scatter(train_last['year'].values,(label_last))\n",
    "plt.plot(pred['year'].values,np.exp(pred_last))\n",
    "plt.scatter(pred['year'].values,np.exp(pred_last))\n",
    "plt.legend(['train_top1','predict_top1','train_top500','predict_top500'])\n",
    "plt.ylabel('Flops/S')\n",
    "\n",
    "plt.show()\n",
    "\n",
    "plt.close()\n",
    "plt.clf()        \n",
    "plt.cla()\n",
    "plt.close()"
   ]
  },
  {
   "cell_type": "code",
   "execution_count": 141,
   "metadata": {},
   "outputs": [
    {
     "name": "stdout",
     "output_type": "stream",
     "text": [
      "Predictive for Top1:\n",
      "Year \t month \t TFlops/S \n",
      "2020 \t 11 \t 989243.6849821872\n",
      "2021 \t 6 \t 1417164.1009320763\n",
      "2021 \t 11 \t 1799432.4079711903\n",
      "2022 \t 6 \t 2577818.8421556125\n",
      "2022 \t 11 \t 3273164.175837322\n",
      "2023 \t 6 \t 4689047.640002983\n",
      "2023 \t 11 \t 5953879.498071342\n",
      "2024 \t 6 \t 8529368.864348331\n",
      "2024 \t 11 \t 10830095.642384915\n",
      "2025 \t 6 \t 15514905.970135337\n"
     ]
    }
   ],
   "source": [
    "print('Predictive for Top1:')\n",
    "print('Year \\t month \\t TFlops/S ')\n",
    "for i in range(0,len(pred)):\n",
    "\n",
    "    print(pred.loc[i]['year'], '\\t',pred.loc[i]['month'],'\\t',np.exp(pred_first[i])*(1e-12))"
   ]
  },
  {
   "cell_type": "code",
   "execution_count": 142,
   "metadata": {},
   "outputs": [
    {
     "name": "stdout",
     "output_type": "stream",
     "text": [
      "Predictive for Top500:\n",
      "Year \t month \t TFlops/S \n",
      "2020 \t 11 \t 5077.681193806959\n",
      "2021 \t 6 \t 6624.140766385223\n",
      "2021 \t 11 \t 8959.987798841401\n",
      "2022 \t 6 \t 11688.843426606321\n",
      "2022 \t 11 \t 15810.638417654296\n",
      "2023 \t 6 \t 20625.92953112559\n",
      "2023 \t 11 \t 27899.177184831642\n",
      "2024 \t 6 \t 36396.15601784782\n",
      "2024 \t 11 \t 49230.402152610266\n",
      "2025 \t 6 \t 64224.02301317902\n"
     ]
    }
   ],
   "source": [
    "print('Predictive for Top500:')\n",
    "print('Year \\t month \\t TFlops/S ')\n",
    "for i in range(0,len(pred)):\n",
    "\n",
    "    print(pred.loc[i]['year'], '\\t',pred.loc[i]['month'],'\\t',np.exp(pred_last[i])*(1e-12))"
   ]
  },
  {
   "cell_type": "code",
   "execution_count": null,
   "metadata": {},
   "outputs": [],
   "source": []
  }
 ],
 "metadata": {
  "kernelspec": {
   "display_name": "Python 3",
   "language": "python",
   "name": "python3"
  },
  "language_info": {
   "codemirror_mode": {
    "name": "ipython",
    "version": 3
   },
   "file_extension": ".py",
   "mimetype": "text/x-python",
   "name": "python",
   "nbconvert_exporter": "python",
   "pygments_lexer": "ipython3",
   "version": "3.7.4"
  }
 },
 "nbformat": 4,
 "nbformat_minor": 2
}
