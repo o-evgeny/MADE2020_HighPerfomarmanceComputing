{
 "cells": [
  {
   "cell_type": "code",
   "execution_count": 1,
   "metadata": {},
   "outputs": [],
   "source": [
    "import numpy as np\n",
    "import time\n",
    "from math import sin,cos,exp,log,pi\n",
    "from SALib.sample import saltelli\n",
    "from SALib.analyze import sobol\n",
    "from SALib.test_functions import Ishigami\n",
    "from numba import njit\n",
    "import threading"
   ]
  },
  {
   "cell_type": "code",
   "execution_count": 2,
   "metadata": {},
   "outputs": [],
   "source": [
    "C1=1.2\n",
    "C2=0.3\n",
    "C3=3\n",
    "C4=pi+1\n",
    "n=1_000_000\n",
    "\n"
   ]
  },
  {
   "cell_type": "code",
   "execution_count": 3,
   "metadata": {},
   "outputs": [],
   "source": [
    "\n",
    "problem = {\n",
    "    'num_vars' : 5,\n",
    "    'names' : ['x1', 'x2', 'x3', 'x4','x5'],\n",
    "    'bounds' : [[-pi,pi],\n",
    "                [-pi,pi],\n",
    "                [-pi,pi],\n",
    "                [-pi,pi],\n",
    "                [-pi,pi]\n",
    "               ]\n",
    "}"
   ]
  },
  {
   "cell_type": "markdown",
   "metadata": {},
   "source": [
    "## Baseline "
   ]
  },
  {
   "cell_type": "code",
   "execution_count": 8,
   "metadata": {},
   "outputs": [
    {
     "name": "stdout",
     "output_type": "stream",
     "text": [
      "samples generation took 6.090597867965698 seconds\n",
      "model evaluation took 3.4115967750549316 seconds\n",
      "SA took 21.383636951446533 seconds\n"
     ]
    }
   ],
   "source": [
    "def func(X):\n",
    "    return C1*(X[0]*sin(X[0]))/X[3] + C2*sin(X[1]) + cos(exp(X[2]*X[2])) + C3*log(C4+X[4])\n",
    "\n",
    "start = time.time()\n",
    "param_values = saltelli.sample(problem, n)\n",
    "print(\"samples generation took %s seconds\" %(time.time() - start))\n",
    "\n",
    "Y = np.zeros(param_values.shape[0])\n",
    "\n",
    "start = time.time()\n",
    "for i, X in enumerate(param_values):\n",
    "    Y[i] = func(X)\n",
    "print(\"model evaluation took %s seconds\" %(time.time() - start))\n",
    "\n",
    "start = time.time()\n",
    "S = sobol.analyze(problem, Y)\n",
    "print(\"SA took %s seconds\" %(time.time() - start))"
   ]
  },
  {
   "cell_type": "code",
   "execution_count": 9,
   "metadata": {},
   "outputs": [
    {
     "data": {
      "text/plain": [
       "{'S1': array([7.21975662e-05, 3.02326722e-06, 1.65221450e-05, 8.96472376e-01,\n",
       "        1.04785599e-04]),\n",
       " 'S1_conf': array([1.71408004e-04, 9.03772073e-06, 2.72455059e-05, 8.99996808e-01,\n",
       "        1.35701837e-04]),\n",
       " 'ST': array([2.23019123e-01, 1.48633457e-06, 1.38171038e-05, 9.57104461e-01,\n",
       "        8.10596148e-05]),\n",
       " 'ST_conf': array([2.10184979e-01, 2.34142950e-06, 2.17142745e-05, 2.56187431e-01,\n",
       "        1.27208895e-04]),\n",
       " 'S2': array([[            nan, -1.12400062e-05, -1.06003548e-05,\n",
       "          4.83538128e-02, -1.47413893e-05],\n",
       "        [            nan,             nan,  2.83545818e-06,\n",
       "         -9.12405056e-07,  2.81090891e-06],\n",
       "        [            nan,             nan,             nan,\n",
       "         -3.84391184e-06,  3.07989784e-05],\n",
       "        [            nan,             nan,             nan,\n",
       "                     nan, -4.85786777e-01],\n",
       "        [            nan,             nan,             nan,\n",
       "                     nan,             nan]]),\n",
       " 'S2_conf': array([[           nan, 1.79181852e-04, 1.76614168e-04, 1.75481562e-01,\n",
       "         1.82437080e-04],\n",
       "        [           nan,            nan, 1.63870205e-05, 1.41119673e-05,\n",
       "         1.64772602e-05],\n",
       "        [           nan,            nan,            nan, 5.74171056e-05,\n",
       "         6.37076514e-05],\n",
       "        [           nan,            nan,            nan,            nan,\n",
       "         1.22950442e+00],\n",
       "        [           nan,            nan,            nan,            nan,\n",
       "                    nan]])}"
      ]
     },
     "execution_count": 9,
     "metadata": {},
     "output_type": "execute_result"
    }
   ],
   "source": [
    "S"
   ]
  },
  {
   "cell_type": "markdown",
   "metadata": {},
   "source": [
    "## Numba "
   ]
  },
  {
   "cell_type": "code",
   "execution_count": 7,
   "metadata": {},
   "outputs": [
    {
     "name": "stdout",
     "output_type": "stream",
     "text": [
      "samples generation took 56.46754193305969 seconds\n",
      "model evaluation took 8.255743980407715 seconds\n",
      "SA took 307.17661809921265 seconds\n"
     ]
    }
   ],
   "source": [
    "@njit(fastmath=True)\n",
    "def func(X):\n",
    "    return C1*(X[0]*sin(X[0]))/X[3] + C2*sin(X[1]) + cos(exp(X[2]*X[2])) + C3*log(C4+X[4])\n",
    "\n",
    "\n",
    "start = time.time()\n",
    "param_values = saltelli.sample(problem, n)\n",
    "print(\"samples generation took %s seconds\" %(time.time() - start))\n",
    "\n",
    "Y = np.zeros(param_values.shape[0])\n",
    "\n",
    "start = time.time()\n",
    "for i, X in enumerate(param_values):\n",
    "    Y[i] = func(X)\n",
    "print(\"model evaluation took %s seconds\" %(time.time() - start))\n",
    "\n",
    "start = time.time()\n",
    "S = sobol.analyze(problem, Y)\n",
    "print(\"SA took %s seconds\" %(time.time() - start))"
   ]
  },
  {
   "cell_type": "markdown",
   "metadata": {},
   "source": [
    "### Видно, что evalution заняло в 4-5 раз меньше чем без Numba\n",
    "#### Попробуем ради интереса еще и распараллелить(результат не гарантируется)"
   ]
  },
  {
   "cell_type": "code",
   "execution_count": 8,
   "metadata": {},
   "outputs": [
    {
     "name": "stdout",
     "output_type": "stream",
     "text": [
      "samples generation took 56.85862874984741 seconds\n"
     ]
    },
    {
     "name": "stderr",
     "output_type": "stream",
     "text": [
      "/Users/workhard/opt/anaconda3/lib/python3.7/site-packages/numba/compiler.py:602: NumbaPerformanceWarning: \u001b[1m\n",
      "The keyword argument 'parallel=True' was specified but no transformation for parallel execution was possible.\n",
      "\n",
      "To find out why, try turning on parallel diagnostics, see http://numba.pydata.org/numba-doc/latest/user/parallel.html#diagnostics for help.\n",
      "\u001b[1m\n",
      "File \"<ipython-input-8-aa2b5931d905>\", line 2:\u001b[0m\n",
      "\u001b[1m@njit(fastmath=True,parallel=True)\n",
      "\u001b[1mdef func(X):\n",
      "\u001b[0m\u001b[1m^\u001b[0m\u001b[0m\n",
      "\u001b[0m\n",
      "  self.func_ir.loc))\n"
     ]
    },
    {
     "name": "stdout",
     "output_type": "stream",
     "text": [
      "model evaluation took 8.097552299499512 seconds\n",
      "SA took 309.0211362838745 seconds\n"
     ]
    }
   ],
   "source": [
    "@njit(fastmath=True,parallel=True)\n",
    "def func(X):\n",
    "    return C1*(X[0]*sin(X[0]))/X[3] + C2*sin(X[1]) + cos(exp(X[2]*X[2])) + C3*log(C4+X[4])\n",
    "\n",
    "\n",
    "start = time.time()\n",
    "param_values = saltelli.sample(problem, n)\n",
    "print(\"samples generation took %s seconds\" %(time.time() - start))\n",
    "\n",
    "Y = np.zeros(param_values.shape[0])\n",
    "\n",
    "start = time.time()\n",
    "for i, X in enumerate(param_values):\n",
    "    Y[i] = func(X)\n",
    "print(\"model evaluation took %s seconds\" %(time.time() - start))\n",
    "\n",
    "start = time.time()\n",
    "S = sobol.analyze(problem, Y)\n",
    "print(\"SA took %s seconds\" %(time.time() - start))"
   ]
  },
  {
   "cell_type": "markdown",
   "metadata": {},
   "source": [
    "## Multithreads"
   ]
  },
  {
   "cell_type": "code",
   "execution_count": 6,
   "metadata": {},
   "outputs": [
    {
     "name": "stdout",
     "output_type": "stream",
     "text": [
      "samples generation took 6.088142156600952 seconds\n",
      "parallel model evaluation took 3.5214080810546875 seconds\n",
      "SA took 20.18432307243347 seconds\n"
     ]
    }
   ],
   "source": [
    "n=1_000_00\n",
    "nThreads=8\n",
    "\n",
    "def func(X):\n",
    "    return C1*(X[0]*sin(X[0]))/X[3] + C2*sin(X[1]) + cos(exp(X[2]*X[2])) + C3*log(C4+X[4])\n",
    "\n",
    "def funcParallel(tid):\n",
    "    lenParams=len(param_values)\n",
    "    lenPart=int(lenParams/nThreads)\n",
    "    start=tid*lenPart\n",
    "    end=(tid+1)*lenPart\n",
    "    #print(str(tid),str(lenParams),str(tid*lenPart),str((tid+1)*lenPart)+'\\n')\n",
    "    #print(tid,start,end,'\\n')\n",
    "    for i, X in enumerate(param_values[start:end]):\n",
    "        Y[i+start] = func(X)\n",
    "\n",
    "start = time.time()\n",
    "param_values = saltelli.sample(problem, n)\n",
    "print(\"samples generation took %s seconds\" %(time.time() - start))\n",
    "\n",
    "Y = np.zeros(param_values.shape[0])\n",
    "\n",
    "start = time.time()\n",
    "threads=[]\n",
    "for tid in range(nThreads):\n",
    "    th=threading.Thread(target=funcParallel,args=(tid,))\n",
    "    threads.append(th)\n",
    "    th.start()\n",
    "    \n",
    "for th in threads:\n",
    "    th.join()\n",
    "    #print(th)\n",
    "            \n",
    "print(\"parallel model evaluation took %s seconds\" %(time.time() - start))\n",
    "\n",
    "start = time.time()\n",
    "S = sobol.analyze(problem, Y)\n",
    "print(\"SA took %s seconds\" %(time.time() - start))"
   ]
  },
  {
   "cell_type": "markdown",
   "metadata": {},
   "source": [
    "#### К сожалению, мультитрединг не дал прироста скорости(прирост на уровне погрешности)"
   ]
  },
  {
   "cell_type": "code",
   "execution_count": 7,
   "metadata": {},
   "outputs": [
    {
     "data": {
      "text/plain": [
       "{'S1': array([7.21975662e-05, 3.02326722e-06, 1.65221450e-05, 8.96472376e-01,\n",
       "        1.04785599e-04]),\n",
       " 'S1_conf': array([1.19086823e-04, 8.33959392e-06, 3.47284977e-05, 8.91347907e-01,\n",
       "        1.64472590e-04]),\n",
       " 'ST': array([2.23019123e-01, 1.48633457e-06, 1.38171038e-05, 9.57104461e-01,\n",
       "        8.10596148e-05]),\n",
       " 'ST_conf': array([1.79275763e-01, 2.70436651e-06, 2.52665693e-05, 2.69256035e-01,\n",
       "        1.47992083e-04]),\n",
       " 'S2': array([[            nan, -1.12400062e-05, -1.06003548e-05,\n",
       "          4.83538128e-02, -1.47413893e-05],\n",
       "        [            nan,             nan,  2.83545818e-06,\n",
       "         -9.12405056e-07,  2.81090891e-06],\n",
       "        [            nan,             nan,             nan,\n",
       "         -3.84391184e-06,  3.07989784e-05],\n",
       "        [            nan,             nan,             nan,\n",
       "                     nan, -4.85786777e-01],\n",
       "        [            nan,             nan,             nan,\n",
       "                     nan,             nan]]),\n",
       " 'S2_conf': array([[           nan, 1.49260331e-04, 1.45158143e-04, 2.14362957e-01,\n",
       "         1.47210492e-04],\n",
       "        [           nan,            nan, 1.64341976e-05, 1.47682150e-05,\n",
       "         1.64306727e-05],\n",
       "        [           nan,            nan,            nan, 5.87989547e-05,\n",
       "         6.50165362e-05],\n",
       "        [           nan,            nan,            nan,            nan,\n",
       "         1.22055785e+00],\n",
       "        [           nan,            nan,            nan,            nan,\n",
       "                    nan]])}"
      ]
     },
     "execution_count": 7,
     "metadata": {},
     "output_type": "execute_result"
    }
   ],
   "source": [
    "S"
   ]
  },
  {
   "cell_type": "code",
   "execution_count": null,
   "metadata": {},
   "outputs": [],
   "source": []
  }
 ],
 "metadata": {
  "kernelspec": {
   "display_name": "Python 3",
   "language": "python",
   "name": "python3"
  },
  "language_info": {
   "codemirror_mode": {
    "name": "ipython",
    "version": 3
   },
   "file_extension": ".py",
   "mimetype": "text/x-python",
   "name": "python",
   "nbconvert_exporter": "python",
   "pygments_lexer": "ipython3",
   "version": "3.7.4"
  }
 },
 "nbformat": 4,
 "nbformat_minor": 2
}
